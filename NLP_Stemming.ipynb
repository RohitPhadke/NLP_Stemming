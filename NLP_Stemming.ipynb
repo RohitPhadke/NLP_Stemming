{
  "nbformat": 4,
  "nbformat_minor": 0,
  "metadata": {
    "colab": {
      "name": "NLP_Stemming.ipynb",
      "provenance": [],
      "collapsed_sections": []
    },
    "kernelspec": {
      "name": "python3",
      "display_name": "Python 3"
    }
  },
  "cells": [
    {
      "cell_type": "markdown",
      "metadata": {
        "id": "qbqP8nePIqe7",
        "colab_type": "text"
      },
      "source": [
        "##**Importing nltk library for language processing**"
      ]
    },
    {
      "cell_type": "code",
      "metadata": {
        "id": "Vv_xGRkIE4a5",
        "colab_type": "code",
        "colab": {}
      },
      "source": [
        "import nltk  # Library for language processing\n",
        "from nltk.stem import PorterStemmer # Library for stemming\n",
        "from nltk.corpus import stopwords # Libraring to remove stopwords\n",
        "nltk.download('punkt') # Download the required package\n",
        "nltk.download('stopwords') # Download the required package"
      ],
      "execution_count": 0,
      "outputs": []
    },
    {
      "cell_type": "code",
      "metadata": {
        "id": "1TCNdn4uFOwS",
        "colab_type": "code",
        "colab": {}
      },
      "source": [
        "paragraph = \"\"\"The Republic of India is a country in Asia. It has an area of 3,287,263 square kilometres (1,269,219 sq mi). It is at the center of South Asia. India has more than 1.2 billion (1,210,000,000) people, which is the second largest population in the world. It is the seventh largest country in the world by area and the largest country in South Asia. It is also the most populous democracy in the world.\n",
        "\n",
        "India has seven neighbours: Pakistan in the north-west, China and Nepal in the north, Bhutan and Bangladesh in the north-east, Myanmar in the east and Sri Lanka, an island, in the south.\n",
        "\n",
        "The capital of India is New Delhi. India is a peninsula, bound by the Indian Ocean in the south, the Arabian Sea on the west and Bay of Bengal in the east. The coastline of India is of about 7,517 km (4,671 mi) long. India has the third largest military force in the world and is also a nuclear weapon state.\n",
        "\n",
        "India's economy became the world's fastest growing in the G20 developing nations in the last quarter of 2014, replacing the People's Republic of China. India's literacy and wealth are also rising.According to New World Wealth, India is the seventh richest country in the world with a total individual wealth of $5.6 trillion. However, it still has many social and economic issues like poverty and corruption. India is a founding member of the World Trade Organisation (WTO), and has signed the Kyoto Protocol.\n",
        "\n",
        "India has the fourth largest number of spoken languages per country in the world, only behind Papua New Guinea, Indonesia, and Nigeria. People of many different religions live there, including the five most popular world religions: Hinduism, Buddhism, Sikhism, Islam, and Christianity. The first three religions came from the Indian subcontinent along with Jainism.\"\"\""
      ],
      "execution_count": 0,
      "outputs": []
    },
    {
      "cell_type": "markdown",
      "metadata": {
        "id": "AcYPzHIDI0zr",
        "colab_type": "text"
      },
      "source": [
        "###**Tokenization of paragraph into sentences and initializing a Stemming object**"
      ]
    },
    {
      "cell_type": "code",
      "metadata": {
        "id": "qo4BUr5IFasD",
        "colab_type": "code",
        "colab": {}
      },
      "source": [
        "sentence = nltk.sent_tokenize(paragraph)\n",
        "stemmer = PorterStemmer()"
      ],
      "execution_count": 0,
      "outputs": []
    },
    {
      "cell_type": "code",
      "metadata": {
        "id": "OnHitvo_KHiT",
        "colab_type": "code",
        "colab": {
          "base_uri": "https://localhost:8080/",
          "height": 35
        },
        "outputId": "ac23f76f-1d10-494f-b58d-7cfd5b3252f4"
      },
      "source": [
        "len(sentence) # There are 18 sentences in our paragraph"
      ],
      "execution_count": 48,
      "outputs": [
        {
          "output_type": "execute_result",
          "data": {
            "text/plain": [
              "18"
            ]
          },
          "metadata": {
            "tags": []
          },
          "execution_count": 48
        }
      ]
    },
    {
      "cell_type": "markdown",
      "metadata": {
        "id": "VuWihkaIJBB7",
        "colab_type": "text"
      },
      "source": [
        "###**Stemming**"
      ]
    },
    {
      "cell_type": "code",
      "metadata": {
        "id": "2GQg_7amFsPa",
        "colab_type": "code",
        "colab": {}
      },
      "source": [
        "for i in range(len(sentence)):\n",
        "  words = nltk.word_tokenize(sentence[i])\n",
        "  words = [stemmer.stem(word) for word in words if word not in set(stopwords.words('english'))]\n",
        "  sentence[i] = ' '.join(words)"
      ],
      "execution_count": 0,
      "outputs": []
    },
    {
      "cell_type": "code",
      "metadata": {
        "id": "-5fDK8FLGWjs",
        "colab_type": "code",
        "outputId": "79da8a49-339f-4a46-fcab-78271f1d53a9",
        "colab": {
          "base_uri": "https://localhost:8080/",
          "height": 337
        }
      },
      "source": [
        "sentence # Sentence object afer tokenization and stemming"
      ],
      "execution_count": 50,
      "outputs": [
        {
          "output_type": "execute_result",
          "data": {
            "text/plain": [
              "['the republ india countri asia .',\n",
              " 'It area 3,287,263 squar kilometr ( 1,269,219 sq mi ) .',\n",
              " 'It center south asia .',\n",
              " 'india 1.2 billion ( 1,210,000,000 ) peopl , second largest popul world .',\n",
              " 'It seventh largest countri world area largest countri south asia .',\n",
              " 'It also popul democraci world .',\n",
              " 'india seven neighbour : pakistan north-west , china nepal north , bhutan bangladesh north-east , myanmar east sri lanka , island , south .',\n",
              " 'the capit india new delhi .',\n",
              " 'india peninsula , bound indian ocean south , arabian sea west bay bengal east .',\n",
              " 'the coastlin india 7,517 km ( 4,671 mi ) long .',\n",
              " 'india third largest militari forc world also nuclear weapon state .',\n",
              " \"india 's economi becam world 's fastest grow g20 develop nation last quarter 2014 , replac peopl 's republ china .\",\n",
              " \"india 's literaci wealth also rising.accord new world wealth , india seventh richest countri world total individu wealth $ 5.6 trillion .\",\n",
              " 'howev , still mani social econom issu like poverti corrupt .',\n",
              " 'india found member world trade organis ( wto ) , sign kyoto protocol .',\n",
              " 'india fourth largest number spoken languag per countri world , behind papua new guinea , indonesia , nigeria .',\n",
              " 'peopl mani differ religion live , includ five popular world religion : hinduism , buddhism , sikhism , islam , christian .',\n",
              " 'the first three religion came indian subcontin along jainism .']"
            ]
          },
          "metadata": {
            "tags": []
          },
          "execution_count": 50
        }
      ]
    }
  ]
}